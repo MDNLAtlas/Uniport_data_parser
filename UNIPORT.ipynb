{
  "nbformat": 4,
  "nbformat_minor": 0,
  "metadata": {
    "colab": {
      "provenance": []
    },
    "kernelspec": {
      "name": "python3",
      "display_name": "Python 3"
    },
    "language_info": {
      "name": "python"
    }
  },
  "cells": [
    {
      "cell_type": "code",
      "execution_count": 3,
      "metadata": {
        "colab": {
          "base_uri": "https://localhost:8080/"
        },
        "id": "uorP5QBl8V9X",
        "outputId": "fcaee113-a265-4e3b-b30d-ed66609c990c"
      },
      "outputs": [
        {
          "output_type": "stream",
          "name": "stdout",
          "text": [
            "Current working directory: /content\n",
            "File exists\n",
            "Results saved to /content/completed_mouse_genes.xlsx\n"
          ]
        }
      ],
      "source": [
        "import requests\n",
        "import pandas as pd\n",
        "import os\n",
        "\n",
        "# Check current working directory\n",
        "print(\"Current working directory:\", os.getcwd())\n",
        "\n",
        "# Check if file exists\n",
        "file_path = \"/content/mouse genes cross-checking.xlsx\"\n",
        "if os.path.exists(file_path):\n",
        "    print(\"File exists\")\n",
        "else:\n",
        "    print(\"File does not exist\")\n",
        "    raise FileNotFoundError(f\"File {file_path} not found. Please upload it to /content.\")\n",
        "\n",
        "# Load your Excel file\n",
        "df = pd.read_excel(file_path)\n",
        "input_terms = df[\"Input Term\"].tolist()\n",
        "\n",
        "results = []\n",
        "for term in input_terms:\n",
        "    # Construct the API query for mouse, reviewed entries\n",
        "    query = f\"gene:{term} AND organism_id:10090 AND reviewed:true\"\n",
        "    url = f\"https://rest.uniprot.org/uniprotkb/search?query={query}&format=json\"\n",
        "    response = requests.get(url)\n",
        "    data = response.json()\n",
        "    if data[\"results\"]:\n",
        "        entry = data[\"results\"][0]  # Take the first result (canonical)\n",
        "        uniprot_id = entry[\"primaryAccession\"]\n",
        "        protein_name = entry[\"proteinDescription\"][\"recommendedName\"][\"fullName\"][\"value\"]\n",
        "        gene_name = entry[\"genes\"][0][\"geneName\"][\"value\"] if entry.get(\"genes\") else \"\"\n",
        "        results.append([term, uniprot_id, protein_name, gene_name])\n",
        "    else:\n",
        "        results.append([term, \"\", \"\", \"\"])  # Handle non-matching terms\n",
        "\n",
        "# Create a DataFrame and save to Excel\n",
        "result_df = pd.DataFrame(results, columns=[\"Input Term\", \"UniProt ID\", \"Protein Recommended Name\", \"Gene Name\"])\n",
        "result_df.to_excel(\"/content/completed_mouse_genes.xlsx\", index=False)\n",
        "print(\"Results saved to /content/completed_mouse_genes.xlsx\")"
      ]
    }
  ]
}